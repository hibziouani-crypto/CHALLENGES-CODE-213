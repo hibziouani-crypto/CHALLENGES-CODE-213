{
 "cells": [
  {
   "cell_type": "markdown",
   "id": "a6f9fc86",
   "metadata": {},
   "source": [
    "## Weather Data Analysis Exercise \n",
    "### File Description This file contains **10 lines of weather data**, following the format below:\n",
    "### Objective - Read the data from the file. - Calculate the **average maximum temperature**, **average minimum temperature**, and **total precipitation** for the given period. - Determine the **number of rainy days** (`precipitation > 0`). - Find the **highest** and **lowest** recorded temperatures.\n",
    "### Constraints - Use only Python's **basic data structures** (`lists`, `dictionaries`). - **Do not** use external libraries like **NumPy**.\n",
    "### Hints - Use the `split()` function to separate data in the file. - Use **control structures** (loops, conditions) to process the data.\n",
    "## Weather Data Analysis Exercise \n",
    "### File Description This file contains **10 lines of weather data**, following the format below:\n"
   ]
  },
  {
   "cell_type": "code",
   "execution_count": 33,
   "id": "19c879d4",
   "metadata": {},
   "outputs": [
    {
     "name": "stdout",
     "output_type": "stream",
     "text": [
      "line:['2023-11-01 ,15, 5, 0.2\\n', '2023-11-02 ,17, 7, 1.5\\n', '2023-11-03 ,12, 3, 0\\n', '2023-11-04 ,18, 6, 0.8\\n', '2023-11-05 ,14, 4, 3.2\\n', '2023-11-06 ,16, 8, 0\\n', '2023-11-07 ,13, 2, 0.5\\n', '2023-11-08 ,19, 9, 2.1\\n', '2023-11-09 ,11, 1, 0.3\\n', '2023-11-10 ,17, 6, 1.2']\n"
     ]
    }
   ],
   "source": [
    "#Read a tet file and count the number of Lines, words, and characters.\n",
    "# Counting lines, words, and characters in  text file\n",
    "def count_text_file(file_path):\n",
    "    with open(file_path, \"r\") as file:\n",
    "        lines=file.readlines()\n",
    "        return lines \n",
    "file_path =\"weatherdata.txt\"\n",
    "lines=count_text_file(file_path)\n",
    "print(f\"line:{lines}\")"
   ]
  },
  {
   "cell_type": "code",
   "execution_count": 34,
   "id": "b3a47f0d",
   "metadata": {},
   "outputs": [],
   "source": [
    "lines = [line.strip() for line in lines]"
   ]
  },
  {
   "cell_type": "code",
   "execution_count": 35,
   "id": "2079b499",
   "metadata": {},
   "outputs": [
    {
     "name": "stdout",
     "output_type": "stream",
     "text": [
      "[['2023-11-01 ', '15', ' 5', ' 0.2'], ['2023-11-02 ', '17', ' 7', ' 1.5'], ['2023-11-03 ', '12', ' 3', ' 0'], ['2023-11-04 ', '18', ' 6', ' 0.8'], ['2023-11-05 ', '14', ' 4', ' 3.2'], ['2023-11-06 ', '16', ' 8', ' 0'], ['2023-11-07 ', '13', ' 2', ' 0.5'], ['2023-11-08 ', '19', ' 9', ' 2.1'], ['2023-11-09 ', '11', ' 1', ' 0.3'], ['2023-11-10 ', '17', ' 6', ' 1.2']]\n"
     ]
    }
   ],
   "source": [
    "rows=[line.split(',') for line in lines]\n",
    "print(rows)"
   ]
  },
  {
   "cell_type": "markdown",
   "id": "aa328e11",
   "metadata": {},
   "source": [
    "# Split MAX, MIN ET PRCIPTATION IN UNIQUE LIST"
   ]
  },
  {
   "cell_type": "code",
   "execution_count": 36,
   "id": "67165252",
   "metadata": {},
   "outputs": [
    {
     "name": "stdout",
     "output_type": "stream",
     "text": [
      "maximum temperature is:\n",
      " ['15', '17', '12', '18', '14', '16', '13', '19', '11', '17']\n",
      "minimum temperature is:\n",
      " [' 5', ' 7', ' 3', ' 6', ' 4', ' 8', ' 2', ' 9', ' 1', ' 6']\n",
      "precipitatiom is:\n",
      " [' 0.2', ' 1.5', ' 0', ' 0.8', ' 3.2', ' 0', ' 0.5', ' 2.1', ' 0.3', ' 1.2']\n"
     ]
    }
   ],
   "source": [
    "max_tempera=[row[1] for row in rows]\n",
    "min_tempera=[row[2] for row in rows]\n",
    "precip=[row[3] for row in rows]\n",
    "\n",
    "print(f\"maximum temperature is:\\n\", max_tempera)\n",
    "print(f\"minimum temperature is:\\n\",min_tempera)\n",
    "print(f\"precipitatiom is:\\n\",precip)"
   ]
  },
  {
   "cell_type": "markdown",
   "id": "186ef60a",
   "metadata": {},
   "source": [
    "# The avrege maximum, minimum temperature, and total precipitation for a given period"
   ]
  },
  {
   "cell_type": "markdown",
   "id": "fefd8892",
   "metadata": {},
   "source": [
    "## 1- Averege Maximum"
   ]
  },
  {
   "cell_type": "code",
   "execution_count": 65,
   "id": "fb40cc7a",
   "metadata": {},
   "outputs": [
    {
     "name": "stdout",
     "output_type": "stream",
     "text": [
      "the average maximum temperature is:\n",
      " 15.2 C°\n"
     ]
    }
   ],
   "source": [
    "#calculer maximum temperature : deviser la somme sur la longueur pour avoir la moyenne \n",
    "#rendre la temperature en float pour calculer la somme\n",
    "TempMAX=[float(temp)for temp in max_tempera]\n",
    "#calculer la somme\n",
    "sumtempMAX=sum(temp for temp in TempMAX)\n",
    "#calculer la langueur\n",
    "lentempMAX=len(max_tempera)\n",
    "#calculer The averege\n",
    "AVG_MAX=sumtempMAX/lentempMAX\n",
    "print(f\"the average maximum temperature is:\\n\", AVG_MAX,\"C°\")\n"
   ]
  },
  {
   "cell_type": "markdown",
   "id": "41b5f41e",
   "metadata": {},
   "source": [
    "## 2- Averege Minimum"
   ]
  },
  {
   "cell_type": "code",
   "execution_count": null,
   "id": "c37a7a04",
   "metadata": {},
   "outputs": [
    {
     "name": "stdout",
     "output_type": "stream",
     "text": [
      "the average minimum temperature is:\n",
      " 5.1 C°\n"
     ]
    }
   ],
   "source": [
    "#calculer minimum temperature : deviser la somme sur la longueur pour avoir la moyenne \n",
    "#rendre la temperature en float pour calculer la somme\n",
    "TempMIN=[float(temp)for temp in min_tempera]\n",
    "#calculer la somme\n",
    "sumtempMIN=sum(temp for temp in TempMIN)\n",
    "#calculer la langueur\n",
    "lentempMIN=len(min_tempera)\n",
    "#calculer The averege\n",
    "AVG_MIN=sumtempMIN/lentempMIN\n",
    "print(f\"the average minimum temperature is:\\n\", AVG_MIN, \"C°\")"
   ]
  },
  {
   "cell_type": "markdown",
   "id": "be9c6e69",
   "metadata": {},
   "source": [
    "## 3- Total precipitation"
   ]
  },
  {
   "cell_type": "code",
   "execution_count": 64,
   "id": "f5ce27ae",
   "metadata": {},
   "outputs": [
    {
     "name": "stdout",
     "output_type": "stream",
     "text": [
      "The total of precepitation is:\n",
      " 9.8\n"
     ]
    }
   ],
   "source": [
    "#cauculer le total de precepitation \n",
    "#rendre la temperature en float pour calculer la somme\n",
    "precipFloat=[float(pre) for pre in precip]\n",
    "Totalprecip=sum(precipFloat)\n",
    "print(f\"The total of precepitation is:\\n\", Totalprecip)"
   ]
  },
  {
   "cell_type": "markdown",
   "id": "ec8256aa",
   "metadata": {},
   "source": []
  },
  {
   "cell_type": "markdown",
   "id": "7247970b",
   "metadata": {},
   "source": [
    "## 4- Number of rainy days:"
   ]
  },
  {
   "cell_type": "code",
   "execution_count": 63,
   "id": "19809cc8",
   "metadata": {},
   "outputs": [
    {
     "name": "stdout",
     "output_type": "stream",
     "text": [
      "The number of rainy days is:\n",
      " 8 Days\n"
     ]
    }
   ],
   "source": [
    "rainy=0\n",
    "for pre in precipFloat:\n",
    "    if pre > 0:\n",
    "       rainy += 1\n",
    "print(f\"The number of rainy days is:\\n\", rainy, \"Days\")"
   ]
  },
  {
   "cell_type": "markdown",
   "id": "70902ea6",
   "metadata": {},
   "source": [
    "## 5-The highest and lowest recorded temperatures"
   ]
  },
  {
   "cell_type": "code",
   "execution_count": 55,
   "id": "a53d981b",
   "metadata": {},
   "outputs": [
    {
     "name": "stdout",
     "output_type": "stream",
     "text": [
      "The highest tempirature is :\n",
      " 19.0 C°\n",
      "The lowest tempirature is:\n",
      " 1.0 C°\n"
     ]
    }
   ],
   "source": [
    "print(\"The highest tempirature is :\\n\", max(TempMAX), \"C°\")\n",
    "print(\"The lowest tempirature is:\\n\", min(TempMIN),\"C°\")"
   ]
  },
  {
   "cell_type": "markdown",
   "id": "e703856c",
   "metadata": {},
   "source": [
    "# THE FUNCTION "
   ]
  },
  {
   "cell_type": "code",
   "execution_count": 62,
   "id": "493c60ef",
   "metadata": {},
   "outputs": [],
   "source": [
    "def weather_function(filename):\n",
    "\n",
    "    with open(filename, 'r') as file:\n",
    "        lines = file.readlines()\n",
    "    rows = []\n",
    "    for line in lines:\n",
    "        line = line.strip()\n",
    "        if line: \n",
    "            parts = line.split(',')\n",
    "            if len(parts) == 4: \n",
    "                rows.append(parts)\n",
    "\n",
    "    max_temp = [row[1] for row in rows]\n",
    "    min_temp = [row[2] for row in rows]\n",
    "    precipitation = [row[3] for row in rows]\n",
    "\n",
    "\n",
    "    floatTempMax = [float(temp) for temp in max_temp]\n",
    "    floatTempMin = [float(temp) for temp in min_temp]\n",
    "    floatPrecipitation = [float(precip) for precip in precipitation]\n",
    "\n",
    "\n",
    "    sumMaxTemp = sum(floatTempMax)\n",
    "    avgMaxTemp = sumMaxTemp / len(floatTempMax)\n",
    "    \n",
    "    sumMinTemp = sum(floatTempMin)\n",
    "    avgMinTemp = sumMinTemp / len(floatTempMin)\n",
    "\n",
    "    totalPrecipitation = sum(floatPrecipitation)\n",
    "    count = 0\n",
    "    for precip in floatPrecipitation:\n",
    "        if precip > 0:\n",
    "            rainy_days_count += 1\n",
    "            \n",
    "\n",
    "    highest_max = max(floatTempMax)\n",
    "    lowest_min = min(floatTempMin)\n",
    "\n",
    "    print(f\"Average Maximum Temperature: {avgMaxTemp:.2f}°C\")\n",
    "    print(f\"Average Minimum Temperature: {avgMinTemp:.2f}°C\")\n",
    "    print(f\"Total Precipitation: {totalPrecipitation:.1f} mm\")\n",
    "    print(f\"Number of Rainy Days: {count}\")\n",
    "    print(f\"Highest Recorded Temperature: {highest_max}°C\")\n",
    "    print(f\"Lowest Recorded Temperature: {lowest_min}°C\")\n",
    "  \n"
   ]
  }
 ],
 "metadata": {
  "kernelspec": {
   "display_name": "Python 3",
   "language": "python",
   "name": "python3"
  },
  "language_info": {
   "codemirror_mode": {
    "name": "ipython",
    "version": 3
   },
   "file_extension": ".py",
   "mimetype": "text/x-python",
   "name": "python",
   "nbconvert_exporter": "python",
   "pygments_lexer": "ipython3",
   "version": "3.13.7"
  }
 },
 "nbformat": 4,
 "nbformat_minor": 5
}
