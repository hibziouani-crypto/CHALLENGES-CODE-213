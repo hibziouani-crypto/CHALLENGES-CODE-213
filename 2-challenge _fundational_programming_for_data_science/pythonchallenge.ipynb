{
 "cells": [
  {
   "cell_type": "markdown",
   "id": "619733f5",
   "metadata": {},
   "source": [
    "# TASK1: COUNTING THE YEAR WHEN THE USER TURN 100 YEARS OLD"
   ]
  },
  {
   "cell_type": "code",
   "execution_count": null,
   "id": "4e1c5992",
   "metadata": {},
   "outputs": [
    {
     "name": "stdout",
     "output_type": "stream",
     "text": [
      "the name: HIBA\n",
      "the age: 37\n",
      "Hi,HIBA in 2088 you will turn 100 years old.\n"
     ]
    },
    {
     "ename": "",
     "evalue": "",
     "output_type": "error",
     "traceback": [
      "\u001b[1;31mThe Kernel crashed while executing code in the current cell or a previous cell. \n",
      "\u001b[1;31mPlease review the code in the cell(s) to identify a possible cause of the failure. \n",
      "\u001b[1;31mClick <a href='https://aka.ms/vscodeJupyterKernelCrash'>here</a> for more info. \n",
      "\u001b[1;31mView Jupyter <a href='command:jupyter.viewOutput'>log</a> for further details."
     ]
    }
   ],
   "source": [
    "# ask the user name and age\n",
    "name=input(\"inter your name:\")\n",
    "print(\"the name:\",name)\n",
    "age=int(input(\"inter your age:\"))\n",
    "print(\"the age:\",age)\n",
    "import datetime as dt \n",
    "current_year=dt.datetime.now().year\n",
    "#print a message to the user that tells them the year they will turn 100 year \n",
    "year_100=(100-age)+current_year\n",
    "print(f\"Hi,{name} in {year_100} you will turn 100 years old.\")"
   ]
  },
  {
   "cell_type": "markdown",
   "id": "82b43d57",
   "metadata": {},
   "source": []
  },
  {
   "cell_type": "markdown",
   "id": "2426ed08",
   "metadata": {},
   "source": [
    "# TASK 2 : Generate a random number between 1 and 9\n"
   ]
  },
  {
   "cell_type": "code",
   "execution_count": 13,
   "id": "b8ede0bd",
   "metadata": {},
   "outputs": [
    {
     "name": "stdout",
     "output_type": "stream",
     "text": [
      "the number you guessed is too low\n",
      "The randam number is : 6\n",
      "you stoped playing!\n",
      "1\n"
     ]
    }
   ],
   "source": [
    "#generate a randnon number between 1 and 9 \n",
    "import random as rn\n",
    "rand_number =rn.randint(1,10)\n",
    "#ask the user to guess the number,\n",
    "#keep the gane going buntil the juser hit exit\n",
    "count=0\n",
    "while True:\n",
    " user_number=input(\"enter a number, or write exit to stop the game\")\n",
    " if user_number.lower() ==\"exit\":\n",
    "    print(\"you stoped playing!\")\n",
    "    print(count)\n",
    "    break\n",
    " else:\n",
    "#then tell them whether they guessed too low, too high, or exactly same.\n",
    "  guess=int(user_number)\n",
    "  count+=1\n",
    " if (guess<rand_number):\n",
    "   print(\"the number you guessed is too low\")\n",
    " elif (guess<rand_number):\n",
    "   print(\"the number you guessed is too high\")\n",
    " else: print(\"the number you guessed exactly the same\")\n",
    " \n",
    " print(f\"The randam number is :\",rand_number)"
   ]
  },
  {
   "cell_type": "markdown",
   "id": "3026cc3c",
   "metadata": {},
   "source": [
    "# TASK 3 : First and Last elements"
   ]
  },
  {
   "cell_type": "code",
   "execution_count": null,
   "id": "9d65f1e9",
   "metadata": {},
   "outputs": [
    {
     "name": "stdout",
     "output_type": "stream",
     "text": [
      "Liste a: [5, 10, 15, 20, 25]\n",
      "New list: [5, 25]\n"
     ]
    }
   ],
   "source": [
    "#write a program that takes a list of  numbers \n",
    "list_a=[5,10,15,20,25]\n",
    "def first_last_list(list_a):\n",
    "    # Return a list with the first and last elements\n",
    "    return [list_a[0], list_a[-1]]\n",
    "\n",
    "\n",
    "result = first_last_list(list_a)\n",
    "print(\"Liste a:\",list_a)\n",
    "print(\"New list:\", result)  \n"
   ]
  },
  {
   "cell_type": "markdown",
   "id": "12309896",
   "metadata": {},
   "source": [
    "# TASK 4 : Password Generator"
   ]
  },
  {
   "cell_type": "code",
   "execution_count": 45,
   "id": "925c6a4f",
   "metadata": {},
   "outputs": [
    {
     "name": "stdout",
     "output_type": "stream",
     "text": [
      "t&e)rj+r\n"
     ]
    }
   ],
   "source": [
    "#write how generat a strong password \n",
    "import random\n",
    "import string\n",
    "def generate_password(length, strength):\n",
    "    \"\"\"input:length of password \n",
    "    output: a random password of the given length\"\"\"\n",
    " #list of weak password\n",
    "    lst=[\"password\",\"123456789\",\"hiba\",\"ziouani\"]\n",
    " #check the strength of the password\n",
    "    if strength.lower()== \"weak\":\n",
    "        return random.choice(lst)    \n",
    "    else:\n",
    "        length=int(length)\n",
    "        characters=string.ascii_letters+string.digits+string.punctuation\n",
    "        password=''.join(random.choice(characters) for i in range(length))\n",
    "        return password\n",
    "   \n",
    "print(generate_password(8,\"strong\"))\n",
    "    \n"
   ]
  }
 ],
 "metadata": {
  "kernelspec": {
   "display_name": "Python 3",
   "language": "python",
   "name": "python3"
  },
  "language_info": {
   "codemirror_mode": {
    "name": "ipython",
    "version": 3
   },
   "file_extension": ".py",
   "mimetype": "text/x-python",
   "name": "python",
   "nbconvert_exporter": "python",
   "pygments_lexer": "ipython3",
   "version": "3.13.7"
  }
 },
 "nbformat": 4,
 "nbformat_minor": 5
}
